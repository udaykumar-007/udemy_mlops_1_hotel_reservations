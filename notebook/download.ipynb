{
 "cells": [
  {
   "cell_type": "code",
   "execution_count": null,
   "id": "56263beb",
   "metadata": {},
   "outputs": [],
   "source": [
    "import os\n",
    "from google.cloud import storage\n",
    "\n",
    "def download_csv_from_gcs(bucket_name, source_blob_name, destination_file_name, service_account_key_path):\n",
    "    \"\"\"\n",
    "    Downloads a CSV file from a Google Cloud Storage bucket to a local destination.\n",
    "\n",
    "    Args:\n",
    "        bucket_name (str): The name of your GCS bucket.\n",
    "        source_blob_name (str): The full path to the CSV file within the bucket (e.g., 'data/my_csv_file.csv').\n",
    "        destination_file_name (str): The local path where the CSV file will be saved.\n",
    "        service_account_key_path (str): The local path to your service account JSON key file.\n",
    "    \"\"\"\n",
    "\n",
    "    # Set the GOOGLE_APPLICATION_CREDENTIALS environment variable\n",
    "    # to authenticate using the service account key.\n",
    "    os.environ[\"GOOGLE_APPLICATION_CREDENTIALS\"] = service_account_key_path\n",
    "\n",
    "    # Initialize a Cloud Storage client\n",
    "    storage_client = storage.Client()\n",
    "\n",
    "    # Get the bucket object\n",
    "    bucket = storage_client.bucket(bucket_name)\n",
    "\n",
    "    # Get the blob (file) object\n",
    "    blob = bucket.blob(source_blob_name)\n",
    "\n",
    "    # Download the blob to the specified local file path\n",
    "    blob.download_to_filename(destination_file_name)\n",
    "\n",
    "    print(f\"File '{source_blob_name}' downloaded to '{destination_file_name}' successfully.\")\n",
    "\n",
    "if __name__ == \"__main__\":\n",
    "    # Replace these with your actual values\n",
    "    YOUR_BUCKET_NAME = \"your-gcs-bucket-name\"  # Example: \"my-data-bucket\"\n",
    "    SOURCE_BLOB_PATH = \"path/to/your/csv_file.csv\"  # Example: \"data/sales_records.csv\"\n",
    "    LOCAL_DESTINATION_PATH = \"local_csv_file.csv\"  # Example: \"downloaded_data.csv\"\n",
    "    SERVICE_ACCOUNT_KEY_FILE = \"/path/to/your/service-account-key.json\"  # Example: \"/home/user/my-service-account.json\"\n",
    "\n",
    "    download_csv_from_gcs(YOUR_BUCKET_NAME, SOURCE_BLOB_PATH, LOCAL_DESTINATION_PATH, SERVICE_ACCOUNT_KEY_FILE)\n",
    "\n"
   ]
  },
  {
   "cell_type": "code",
   "execution_count": 1,
   "id": "a2b46f56",
   "metadata": {},
   "outputs": [
    {
     "ename": "DefaultCredentialsError",
     "evalue": "Your default credentials were not found. To set up Application Default Credentials, see https://cloud.google.com/docs/authentication/external/set-up-adc for more information.",
     "output_type": "error",
     "traceback": [
      "\u001b[31m---------------------------------------------------------------------------\u001b[39m",
      "\u001b[31mDefaultCredentialsError\u001b[39m                   Traceback (most recent call last)",
      "\u001b[36mCell\u001b[39m\u001b[36m \u001b[39m\u001b[32mIn[1]\u001b[39m\u001b[32m, line 4\u001b[39m\n\u001b[32m      1\u001b[39m \u001b[38;5;28;01mfrom\u001b[39;00m\u001b[38;5;250m \u001b[39m\u001b[34;01mgoogle\u001b[39;00m\u001b[34;01m.\u001b[39;00m\u001b[34;01mcloud\u001b[39;00m\u001b[38;5;250m \u001b[39m\u001b[38;5;28;01mimport\u001b[39;00m storage\n\u001b[32m      2\u001b[39m get_ipython().system(\u001b[33m'\u001b[39m\u001b[33mset GOOGLE_APPLICATION_CREDENTIALS=D:\u001b[39m\u001b[38;5;130;01m\\\\\u001b[39;00m\u001b[33mtech_projects\u001b[39m\u001b[38;5;130;01m\\\\\u001b[39;00m\u001b[33mUdemy_Courses\u001b[39m\u001b[38;5;130;01m\\\\\u001b[39;00m\u001b[33mbeginner_to_advanced_mlops\u001b[39m\u001b[38;5;130;01m\\\\\u001b[39;00m\u001b[33m1_hotel_res\u001b[39m\u001b[38;5;130;01m\\\\\u001b[39;00m\u001b[33mudemy-467516-977325b786c6.json\u001b[39m\u001b[33m'\u001b[39m)\n\u001b[32m----> \u001b[39m\u001b[32m4\u001b[39m client = \u001b[43mstorage\u001b[49m\u001b[43m.\u001b[49m\u001b[43mClient\u001b[49m\u001b[43m(\u001b[49m\u001b[43m)\u001b[49m\n\u001b[32m      5\u001b[39m bucket = client.bucket(\u001b[33m\"\u001b[39m\u001b[33m1_hotel_res\u001b[39m\u001b[33m\"\u001b[39m)\n\u001b[32m      6\u001b[39m blob = bucket.blob(\u001b[33m\"\u001b[39m\u001b[33mHotel_Reservations.csv\u001b[39m\u001b[33m\"\u001b[39m)\n",
      "\u001b[36mFile \u001b[39m\u001b[32md:\\tech_projects\\Udemy_Courses\\beginner_to_advanced_mlops\\1_hotel_res\\project\\venv\\Lib\\site-packages\\google\\cloud\\storage\\client.py:247\u001b[39m, in \u001b[36mClient.__init__\u001b[39m\u001b[34m(self, project, credentials, _http, client_info, client_options, use_auth_w_custom_endpoint, extra_headers, api_key)\u001b[39m\n\u001b[32m    244\u001b[39m             no_project = \u001b[38;5;28;01mTrue\u001b[39;00m\n\u001b[32m    245\u001b[39m             project = \u001b[33m\"\u001b[39m\u001b[33m<none>\u001b[39m\u001b[33m\"\u001b[39m\n\u001b[32m--> \u001b[39m\u001b[32m247\u001b[39m \u001b[38;5;28;43msuper\u001b[39;49m\u001b[43m(\u001b[49m\u001b[43mClient\u001b[49m\u001b[43m,\u001b[49m\u001b[43m \u001b[49m\u001b[38;5;28;43mself\u001b[39;49m\u001b[43m)\u001b[49m\u001b[43m.\u001b[49m\u001b[34;43m__init__\u001b[39;49m\u001b[43m(\u001b[49m\n\u001b[32m    248\u001b[39m \u001b[43m    \u001b[49m\u001b[43mproject\u001b[49m\u001b[43m=\u001b[49m\u001b[43mproject\u001b[49m\u001b[43m,\u001b[49m\n\u001b[32m    249\u001b[39m \u001b[43m    \u001b[49m\u001b[43mcredentials\u001b[49m\u001b[43m=\u001b[49m\u001b[43mcredentials\u001b[49m\u001b[43m,\u001b[49m\n\u001b[32m    250\u001b[39m \u001b[43m    \u001b[49m\u001b[43mclient_options\u001b[49m\u001b[43m=\u001b[49m\u001b[43mclient_options\u001b[49m\u001b[43m,\u001b[49m\n\u001b[32m    251\u001b[39m \u001b[43m    \u001b[49m\u001b[43m_http\u001b[49m\u001b[43m=\u001b[49m\u001b[43m_http\u001b[49m\u001b[43m,\u001b[49m\n\u001b[32m    252\u001b[39m \u001b[43m\u001b[49m\u001b[43m)\u001b[49m\n\u001b[32m    254\u001b[39m \u001b[38;5;66;03m# Validate that the universe domain of the credentials matches the\u001b[39;00m\n\u001b[32m    255\u001b[39m \u001b[38;5;66;03m# universe domain of the client.\u001b[39;00m\n\u001b[32m    256\u001b[39m \u001b[38;5;28;01mif\u001b[39;00m \u001b[38;5;28mself\u001b[39m._credentials.universe_domain != \u001b[38;5;28mself\u001b[39m.universe_domain:\n",
      "\u001b[36mFile \u001b[39m\u001b[32md:\\tech_projects\\Udemy_Courses\\beginner_to_advanced_mlops\\1_hotel_res\\project\\venv\\Lib\\site-packages\\google\\cloud\\client\\__init__.py:338\u001b[39m, in \u001b[36mClientWithProject.__init__\u001b[39m\u001b[34m(self, project, credentials, client_options, _http)\u001b[39m\n\u001b[32m    337\u001b[39m \u001b[38;5;28;01mdef\u001b[39;00m\u001b[38;5;250m \u001b[39m\u001b[34m__init__\u001b[39m(\u001b[38;5;28mself\u001b[39m, project=\u001b[38;5;28;01mNone\u001b[39;00m, credentials=\u001b[38;5;28;01mNone\u001b[39;00m, client_options=\u001b[38;5;28;01mNone\u001b[39;00m, _http=\u001b[38;5;28;01mNone\u001b[39;00m):\n\u001b[32m--> \u001b[39m\u001b[32m338\u001b[39m     \u001b[43m_ClientProjectMixin\u001b[49m\u001b[43m.\u001b[49m\u001b[34;43m__init__\u001b[39;49m\u001b[43m(\u001b[49m\u001b[38;5;28;43mself\u001b[39;49m\u001b[43m,\u001b[49m\u001b[43m \u001b[49m\u001b[43mproject\u001b[49m\u001b[43m=\u001b[49m\u001b[43mproject\u001b[49m\u001b[43m,\u001b[49m\u001b[43m \u001b[49m\u001b[43mcredentials\u001b[49m\u001b[43m=\u001b[49m\u001b[43mcredentials\u001b[49m\u001b[43m)\u001b[49m\n\u001b[32m    339\u001b[39m     Client.\u001b[34m__init__\u001b[39m(\n\u001b[32m    340\u001b[39m         \u001b[38;5;28mself\u001b[39m, credentials=credentials, client_options=client_options, _http=_http\n\u001b[32m    341\u001b[39m     )\n",
      "\u001b[36mFile \u001b[39m\u001b[32md:\\tech_projects\\Udemy_Courses\\beginner_to_advanced_mlops\\1_hotel_res\\project\\venv\\Lib\\site-packages\\google\\cloud\\client\\__init__.py:286\u001b[39m, in \u001b[36m_ClientProjectMixin.__init__\u001b[39m\u001b[34m(self, project, credentials)\u001b[39m\n\u001b[32m    283\u001b[39m     project = \u001b[38;5;28mgetattr\u001b[39m(credentials, \u001b[33m\"\u001b[39m\u001b[33mproject_id\u001b[39m\u001b[33m\"\u001b[39m, \u001b[38;5;28;01mNone\u001b[39;00m)\n\u001b[32m    285\u001b[39m \u001b[38;5;28;01mif\u001b[39;00m project \u001b[38;5;129;01mis\u001b[39;00m \u001b[38;5;28;01mNone\u001b[39;00m:\n\u001b[32m--> \u001b[39m\u001b[32m286\u001b[39m     project = \u001b[38;5;28;43mself\u001b[39;49m\u001b[43m.\u001b[49m\u001b[43m_determine_default\u001b[49m\u001b[43m(\u001b[49m\u001b[43mproject\u001b[49m\u001b[43m)\u001b[49m\n\u001b[32m    288\u001b[39m \u001b[38;5;28;01mif\u001b[39;00m project \u001b[38;5;129;01mis\u001b[39;00m \u001b[38;5;28;01mNone\u001b[39;00m:\n\u001b[32m    289\u001b[39m     \u001b[38;5;28;01mraise\u001b[39;00m \u001b[38;5;167;01mEnvironmentError\u001b[39;00m(\n\u001b[32m    290\u001b[39m         \u001b[33m\"\u001b[39m\u001b[33mProject was not passed and could not be \u001b[39m\u001b[33m\"\u001b[39m\n\u001b[32m    291\u001b[39m         \u001b[33m\"\u001b[39m\u001b[33mdetermined from the environment.\u001b[39m\u001b[33m\"\u001b[39m\n\u001b[32m    292\u001b[39m     )\n",
      "\u001b[36mFile \u001b[39m\u001b[32md:\\tech_projects\\Udemy_Courses\\beginner_to_advanced_mlops\\1_hotel_res\\project\\venv\\Lib\\site-packages\\google\\cloud\\client\\__init__.py:305\u001b[39m, in \u001b[36m_ClientProjectMixin._determine_default\u001b[39m\u001b[34m(project)\u001b[39m\n\u001b[32m    302\u001b[39m \u001b[38;5;129m@staticmethod\u001b[39m\n\u001b[32m    303\u001b[39m \u001b[38;5;28;01mdef\u001b[39;00m\u001b[38;5;250m \u001b[39m\u001b[34m_determine_default\u001b[39m(project):\n\u001b[32m    304\u001b[39m \u001b[38;5;250m    \u001b[39m\u001b[33;03m\"\"\"Helper:  use default project detection.\"\"\"\u001b[39;00m\n\u001b[32m--> \u001b[39m\u001b[32m305\u001b[39m     \u001b[38;5;28;01mreturn\u001b[39;00m \u001b[43m_determine_default_project\u001b[49m\u001b[43m(\u001b[49m\u001b[43mproject\u001b[49m\u001b[43m)\u001b[49m\n",
      "\u001b[36mFile \u001b[39m\u001b[32md:\\tech_projects\\Udemy_Courses\\beginner_to_advanced_mlops\\1_hotel_res\\project\\venv\\Lib\\site-packages\\google\\cloud\\_helpers\\__init__.py:152\u001b[39m, in \u001b[36m_determine_default_project\u001b[39m\u001b[34m(project)\u001b[39m\n\u001b[32m    140\u001b[39m \u001b[38;5;250m\u001b[39m\u001b[33;03m\"\"\"Determine default project ID explicitly or implicitly as fall-back.\u001b[39;00m\n\u001b[32m    141\u001b[39m \n\u001b[32m    142\u001b[39m \u001b[33;03mSee :func:`google.auth.default` for details on how the default project\u001b[39;00m\n\u001b[32m   (...)\u001b[39m\u001b[32m    149\u001b[39m \u001b[33;03m:returns: Default project if it can be determined.\u001b[39;00m\n\u001b[32m    150\u001b[39m \u001b[33;03m\"\"\"\u001b[39;00m\n\u001b[32m    151\u001b[39m \u001b[38;5;28;01mif\u001b[39;00m project \u001b[38;5;129;01mis\u001b[39;00m \u001b[38;5;28;01mNone\u001b[39;00m:\n\u001b[32m--> \u001b[39m\u001b[32m152\u001b[39m     _, project = \u001b[43mgoogle\u001b[49m\u001b[43m.\u001b[49m\u001b[43mauth\u001b[49m\u001b[43m.\u001b[49m\u001b[43mdefault\u001b[49m\u001b[43m(\u001b[49m\u001b[43m)\u001b[49m\n\u001b[32m    153\u001b[39m \u001b[38;5;28;01mreturn\u001b[39;00m project\n",
      "\u001b[36mFile \u001b[39m\u001b[32md:\\tech_projects\\Udemy_Courses\\beginner_to_advanced_mlops\\1_hotel_res\\project\\venv\\Lib\\site-packages\\google\\auth\\_default.py:685\u001b[39m, in \u001b[36mdefault\u001b[39m\u001b[34m(scopes, request, quota_project_id, default_scopes)\u001b[39m\n\u001b[32m    677\u001b[39m             _LOGGER.warning(\n\u001b[32m    678\u001b[39m                 \u001b[33m\"\u001b[39m\u001b[33mNo project ID could be determined. Consider running \u001b[39m\u001b[33m\"\u001b[39m\n\u001b[32m    679\u001b[39m                 \u001b[33m\"\u001b[39m\u001b[33m`gcloud config set project` or setting the \u001b[39m\u001b[38;5;132;01m%s\u001b[39;00m\u001b[33m \u001b[39m\u001b[33m\"\u001b[39m\n\u001b[32m    680\u001b[39m                 \u001b[33m\"\u001b[39m\u001b[33menvironment variable\u001b[39m\u001b[33m\"\u001b[39m,\n\u001b[32m    681\u001b[39m                 environment_vars.PROJECT,\n\u001b[32m    682\u001b[39m             )\n\u001b[32m    683\u001b[39m         \u001b[38;5;28;01mreturn\u001b[39;00m credentials, effective_project_id\n\u001b[32m--> \u001b[39m\u001b[32m685\u001b[39m \u001b[38;5;28;01mraise\u001b[39;00m exceptions.DefaultCredentialsError(_CLOUD_SDK_MISSING_CREDENTIALS)\n",
      "\u001b[31mDefaultCredentialsError\u001b[39m: Your default credentials were not found. To set up Application Default Credentials, see https://cloud.google.com/docs/authentication/external/set-up-adc for more information."
     ]
    }
   ],
   "source": [
    "from google.cloud import storage\n",
    "!set GOOGLE_APPLICATION_CREDENTIALS=D:\\tech_projects\\Udemy_Courses\\beginner_to_advanced_mlops\\1_hotel_res\\udemy-467516-977325b786c6.json\n",
    "\n",
    "client = storage.Client()\n",
    "bucket = client.bucket(\"1_hotel_res\")\n",
    "blob = bucket.blob(\"Hotel_Reservations.csv\")\n",
    "blob.download_to_filename(\"sample.csv\")"
   ]
  },
  {
   "cell_type": "code",
   "execution_count": null,
   "id": "7daba12e",
   "metadata": {},
   "outputs": [],
   "source": []
  }
 ],
 "metadata": {
  "kernelspec": {
   "display_name": "venv",
   "language": "python",
   "name": "python3"
  },
  "language_info": {
   "codemirror_mode": {
    "name": "ipython",
    "version": 3
   },
   "file_extension": ".py",
   "mimetype": "text/x-python",
   "name": "python",
   "nbconvert_exporter": "python",
   "pygments_lexer": "ipython3",
   "version": "3.12.7"
  }
 },
 "nbformat": 4,
 "nbformat_minor": 5
}
